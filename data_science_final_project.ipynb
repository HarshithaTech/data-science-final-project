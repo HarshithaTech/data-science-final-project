{
 "cells": [
  {
   "cell_type": "markdown",
   "id": "dccafe3f",
   "metadata": {},
   "source": [
    "# Data Science Basics — Final Project"
   ]
  },
  {
   "cell_type": "markdown",
   "id": "2501b190",
   "metadata": {},
   "source": [
    "## Introduction\n",
    "This notebook contains basic information and simple code examples demonstrating foundational data science concepts and tools. It fulfills the final project exercises for the course."
   ]
  },
  {
   "cell_type": "markdown",
   "id": "7a0044ad",
   "metadata": {},
   "source": [
    "## Data Science Languages\n",
    "- Python\n",
    "- R\n",
    "- SQL\n",
    "- Julia"
   ]
  },
  {
   "cell_type": "markdown",
   "id": "85a2387b",
   "metadata": {},
   "source": [
    "## Data Science Libraries\n",
    "- NumPy\n",
    "- pandas\n",
    "- Matplotlib\n",
    "- Scikit-learn\n",
    "- Seaborn"
   ]
  },
  {
   "cell_type": "markdown",
   "id": "3eea50d6",
   "metadata": {},
   "source": [
    "## Data Science Tools\n",
    "\n",
    "| Tool Category      | Examples                     |\n",
    "|--------------------|------------------------------|\n",
    "| Notebooks          | Jupyter, JupyterLite         |\n",
    "| Languages          | Python, R                    |\n",
    "| Libraries          | NumPy, pandas, Scikit-learn  |\n",
    "| Visualization      | Matplotlib, Seaborn          |\n",
    "| Data Storage       | SQL, MongoDB                 |\n",
    "| Cloud Platforms    | Google Colab, Azure ML       |"
   ]
  },
  {
   "cell_type": "markdown",
   "id": "7764046c",
   "metadata": {},
   "source": [
    "## Arithmetic Expression Examples\n",
    "Below are examples demonstrating arithmetic operations using Python code cells."
   ]
  },
  {
   "cell_type": "code",
   "execution_count": null,
   "id": "f482ca3d",
   "metadata": {},
   "outputs": [],
   "source": [
    "a = 7\n",
    "b = 5\n",
    "product = a * b\n",
    "sum_result = a + b\n",
    "product, sum_result"
   ]
  },
  {
   "cell_type": "code",
   "execution_count": null,
   "id": "029ad253",
   "metadata": {},
   "outputs": [],
   "source": [
    "minutes = 150\n",
    "hours = minutes / 60\n",
    "f\"{minutes} minutes = {hours} hours\""
   ]
  },
  {
   "cell_type": "markdown",
   "id": "33147f33",
   "metadata": {},
   "source": [
    "## Objectives\n",
    "1. Learn basic markdown structure in Jupyter notebooks.\n",
    "2. Demonstrate simple arithmetic operations using Python.\n",
    "3. List common languages, libraries, and tools in data science."
   ]
  },
  {
   "cell_type": "markdown",
   "id": "2ab668ab",
   "metadata": {},
   "source": [
    "## Author\n",
    "Harshitha K S"
   ]
  },
  {
   "cell_type": "markdown",
   "id": "e02b7ecd",
   "metadata": {},
   "source": [
    "## Notes\n",
    "This notebook was created for the course final project and includes both markdown and code cells as required."
   ]
  }
 ],
 "metadata": {
  "language_info": {
   "name": "python"
  }
 },
 "nbformat": 4,
 "nbformat_minor": 5
}
